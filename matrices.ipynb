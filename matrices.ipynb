{
  "metadata": {
    "language_info": {
      "codemirror_mode": {
        "name": "python",
        "version": 3
      },
      "file_extension": ".py",
      "mimetype": "text/x-python",
      "name": "python",
      "nbconvert_exporter": "python",
      "pygments_lexer": "ipython3",
      "version": "3.8"
    },
    "kernelspec": {
      "name": "python",
      "display_name": "Python (Pyodide)",
      "language": "python"
    }
  },
  "nbformat_minor": 4,
  "nbformat": 4,
  "cells": [
    {
      "cell_type": "markdown",
      "source": "Question 3",
      "metadata": {}
    },
    {
      "cell_type": "code",
      "source": "import numpy as np\ndef rotation(phi, v):\n    # Create the rotation matrix as defined in the question - note use radians\n    phi_r = np.radians(phi)\n    c = np.cos(phi_r)\n    s = np.sin(phi_r)\n    R = np.array(((c, -s), (s, c)))\n\n    # calculate the dot product v_p = R.v - again defined in question, just translating into numpy\n    v_p = np.dot(R, v)\n    \n    return(v_p)",
      "metadata": {
        "trusted": true
      },
      "execution_count": 54,
      "outputs": []
    },
    {
      "cell_type": "code",
      "source": "v_p = rotation(90, [1,0])\nassert np.allclose(v_p,np.array([0,1]))",
      "metadata": {
        "trusted": true
      },
      "execution_count": 55,
      "outputs": []
    },
    {
      "cell_type": "markdown",
      "source": "Question 4",
      "metadata": {}
    },
    {
      "cell_type": "code",
      "source": "",
      "metadata": {},
      "execution_count": null,
      "outputs": []
    }
  ]
}